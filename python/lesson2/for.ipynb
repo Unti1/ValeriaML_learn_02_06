{
 "cells": [
  {
   "cell_type": "markdown",
   "metadata": {},
   "source": [
    "# Цикл for\n",
    "\n",
    "Цикл for - это последовательные очередный цикл перебора значений"
   ]
  },
  {
   "cell_type": "code",
   "execution_count": 5,
   "metadata": {},
   "outputs": [
    {
     "name": "stdout",
     "output_type": "stream",
     "text": [
      "Число: 2 - чётное\n",
      "Значение val : 2\n",
      "Число: 3 - нечётное\n",
      "Значение val : 3\n",
      "Число: 4 - чётное\n",
      "Значение val : 4\n",
      "Число: 5 - нечётное\n",
      "Значение val : 5\n",
      "[2, 4]\n"
     ]
    }
   ],
   "source": [
    "lst = [2,3,4,5,6,7,8,9]\n",
    "st2 = 'Строка'\n",
    "lst2 = []\n",
    "stop_value = int(input('Введите число останова: '))\n",
    "\n",
    "for val in lst:\n",
    "    if val % 2 == 0:\n",
    "        print(f'Число: {val} - чётное')\n",
    "        lst2.append(val)\n",
    "    else:\n",
    "        # continue\n",
    "        print(f'Число: {val} - нечётное')\n",
    "    print(f'Значение val : {val}')\n",
    "\n",
    "    \n",
    "    if val == stop_value:\n",
    "        break\n",
    "    \n",
    "    \n",
    "\n",
    "print(lst2)"
   ]
  },
  {
   "cell_type": "markdown",
   "metadata": {},
   "source": [
    "Работа с циклом for по значениям индекса"
   ]
  },
  {
   "cell_type": "markdown",
   "metadata": {},
   "source": [
    "Конечная точка range - всегда исключительна\n",
    "\n",
    "range(N) - это функция которая позволяет получить диапазон до заданного числа N\n",
    "\n",
    "range(X,Y) - в этом случае мы получаем диапазон от X до Y значения\n",
    "\n",
    "range(X,Y,Z) - в этом случае мы получаем диапазон от X до Y значения c шагом Z\n",
    "\n",
    "Обязательное условие: N,X,Y,Z - целочисленные значения"
   ]
  },
  {
   "cell_type": "markdown",
   "metadata": {},
   "source": [
    "Когда мы трансформируем range в list то мы получаем полный список значений которые будут подставлены в цикле"
   ]
  },
  {
   "cell_type": "code",
   "execution_count": 9,
   "metadata": {},
   "outputs": [
    {
     "name": "stdout",
     "output_type": "stream",
     "text": [
      "range(0, 10)\n",
      "Val[index=0] : 2\n",
      "Val[index=1] : 3\n",
      "Val[index=2] : 4\n",
      "Val[index=3] : 5\n",
      "Val[index=4] : 6\n",
      "Val[index=5] : 7\n",
      "Val[index=6] : 8\n",
      "Val[index=7] : 9\n",
      "Цикл завершен\n"
     ]
    }
   ],
   "source": [
    "lst = [2,3,4,5,6,7,8,9]\n",
    "print(range(10))\n",
    "# print(list(range(0, 10, 2)))\n",
    "\n",
    "for i in range(len(lst)):\n",
    "    print(f'Val[index={i}] : {lst[i]}')\n",
    "else:\n",
    "    print('Цикл завершен')"
   ]
  },
  {
   "cell_type": "markdown",
   "metadata": {},
   "source": []
  }
 ],
 "metadata": {
  "kernelspec": {
   "display_name": "Python 3",
   "language": "python",
   "name": "python3"
  },
  "language_info": {
   "codemirror_mode": {
    "name": "ipython",
    "version": 3
   },
   "file_extension": ".py",
   "mimetype": "text/x-python",
   "name": "python",
   "nbconvert_exporter": "python",
   "pygments_lexer": "ipython3",
   "version": "3.11.9"
  }
 },
 "nbformat": 4,
 "nbformat_minor": 2
}
