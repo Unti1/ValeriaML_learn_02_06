{
 "cells": [
  {
   "cell_type": "markdown",
   "metadata": {},
   "source": [
    "# Цикл While\n",
    "\n",
    "Цикл - это конструкция для повторения кода какое то неопределенное количество раз"
   ]
  },
  {
   "cell_type": "markdown",
   "metadata": {},
   "source": [
    "Конечный цикл - цикл с явным конечным условием, т.е. такое условие горантированно закончится "
   ]
  },
  {
   "cell_type": "code",
   "execution_count": 3,
   "metadata": {},
   "outputs": [
    {
     "name": "stdout",
     "output_type": "stream",
     "text": [
      "Текущая позиция(нечётн): 1\n",
      "Текущая позиция(чётн): 2\n",
      "Текущая позиция(нечётн): 3\n",
      "Текущая позиция(чётн): 4\n",
      "Текущая позиция(нечётн): 5\n",
      "Текущая позиция(чётн): 6\n",
      "Текущая позиция(нечётн): 7\n",
      "Текущая позиция(чётн): 8\n",
      "Текущая позиция(нечётн): 9\n",
      "Текущая позиция(чётн): 10\n",
      "Обход цикла завершен\n"
     ]
    }
   ],
   "source": [
    "cnt = 1\n",
    "N = 10\n",
    "\n",
    "while cnt <= N:\n",
    "    if cnt % 2 == 0:\n",
    "        print(f'Текущая позиция(чётн): {cnt}')\n",
    "    else:\n",
    "        print(f'Текущая позиция(нечётн): {cnt}')\n",
    "    cnt += 1\n",
    "else:\n",
    "    print(f'Обход цикла завершен')"
   ]
  },
  {
   "cell_type": "markdown",
   "metadata": {},
   "source": [
    "Бесконечные циклы - это циклы (обычно while) условие не может быть выполнено до конца"
   ]
  },
  {
   "cell_type": "code",
   "execution_count": 5,
   "metadata": {},
   "outputs": [
    {
     "name": "stdout",
     "output_type": "stream",
     "text": [
      "Число: 21 - нечётное\n",
      "Число: 5 - нечётное\n",
      "Число: 2 - чётное\n",
      "Число: 8 - чётное\n",
      "Число: 6 - чётное\n",
      "Число: 4 - чётное\n",
      "Цикл завершен\n"
     ]
    }
   ],
   "source": [
    "while True:\n",
    "    x = int(input('Введите число: '))\n",
    "    if x == 0:\n",
    "        print('Цикл завершен')\n",
    "        break\n",
    "\n",
    "    if x % 2 == 0:  \n",
    "        print(f'Число: {x} - чётное')\n",
    "        continue\n",
    "        print('Что-то')\n",
    "    else:\n",
    "        print(f'Число: {x} - нечётное')\n",
    "else:\n",
    "    print('Цикл завершен')"
   ]
  },
  {
   "cell_type": "markdown",
   "metadata": {},
   "source": [
    "Конструкции управления циклом:\n",
    "- `сontinue` - позволяет проолжить цикл со следующего шага \n",
    "- `break` - позволяет досрочно завершить выполнение цикла"
   ]
  },
  {
   "cell_type": "markdown",
   "metadata": {},
   "source": []
  }
 ],
 "metadata": {
  "kernelspec": {
   "display_name": "Python 3",
   "language": "python",
   "name": "python3"
  },
  "language_info": {
   "codemirror_mode": {
    "name": "ipython",
    "version": 3
   },
   "file_extension": ".py",
   "mimetype": "text/x-python",
   "name": "python",
   "nbconvert_exporter": "python",
   "pygments_lexer": "ipython3",
   "version": "3.11.9"
  }
 },
 "nbformat": 4,
 "nbformat_minor": 2
}
