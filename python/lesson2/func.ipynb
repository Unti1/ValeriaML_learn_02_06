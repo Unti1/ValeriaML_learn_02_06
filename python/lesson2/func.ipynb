{
 "cells": [
  {
   "cell_type": "markdown",
   "metadata": {},
   "source": [
    "# Функции \n",
    "\n",
    "Функции представляют собой специальный блок кода, который можно вызвать множество раз.\n",
    "\n",
    "Чтобы создать функцию, нам нужно ключевое слово def, от англ. «define», что переводится, как «определять». То есть, мы как бы определяем функцию."
   ]
  },
  {
   "cell_type": "markdown",
   "metadata": {},
   "source": [
    "def `*название функции*():`\n"
   ]
  },
  {
   "cell_type": "code",
   "execution_count": 5,
   "metadata": {},
   "outputs": [
    {
     "name": "stdout",
     "output_type": "stream",
     "text": [
      "Собраться\n",
      "Выйти из кв\n",
      "Закрыть квартиру\n",
      "Спуститься вниз\n",
      "Дойти до магазина\n",
      "Закупиться\n",
      "Взять пакеты\n",
      "Дойти до подъезда\n",
      "Подняться по лестнице\n",
      "Открыть кв.\n",
      "Разгрузить покупки\n",
      "Забыла купить Лук\n",
      "Собраться\n",
      "Выйти из кв\n",
      "Закрыть квартиру\n",
      "Спуститься вниз\n",
      "Дойти до магазина\n",
      "Закупиться\n",
      "Взять пакеты\n",
      "Дойти до подъезда\n",
      "Подняться по лестнице\n",
      "Открыть кв.\n",
      "Разгрузить покупки\n"
     ]
    }
   ],
   "source": [
    "def gotoshop():\n",
    "    print('Собраться')\n",
    "    print('Выйти из кв')\n",
    "    print('Закрыть квартиру')\n",
    "    print('Спуститься вниз')\n",
    "    print('Дойти до магазина')\n",
    "    print('Закупиться')\n",
    "    \n",
    "def return_to_home():\n",
    "    print(\"Взять пакеты\")\n",
    "    print(\"Дойти до подъезда\")\n",
    "    print(\"Подняться по лестнице\")\n",
    "    print(\"Открыть кв.\")\n",
    "    print(\"Разгрузить покупки\")\n",
    "\n",
    "gotoshop()\n",
    "return_to_home()\n",
    "\n",
    "print(\"Забыла купить Лук\")\n",
    "\n",
    "gotoshop()\n",
    "return_to_home()\n",
    "\n",
    "print(\"Забыла купить Чеснок\")\n",
    "\n",
    "gotoshop()\n",
    "return_to_home()"
   ]
  },
  {
   "cell_type": "code",
   "execution_count": 4,
   "metadata": {},
   "outputs": [
    {
     "name": "stdout",
     "output_type": "stream",
     "text": [
      "Собраться\n",
      "Выйти из кв\n",
      "Закрыть квартиру\n",
      "Спуститься вниз\n",
      "Дойти до магазина\n",
      "Закупиться\n",
      "Взять пакеты\n",
      "Дойти до подъезда\n",
      "Подняться по лестнице\n",
      "Открыть кв.\n",
      "Разгрузить покупки\n"
     ]
    }
   ],
   "source": [
    "print('Собраться')\n",
    "print('Выйти из кв')\n",
    "print('Закрыть квартиру')\n",
    "print('Спуститься вниз')\n",
    "print('Дойти до магазина')\n",
    "print('Закупиться')\n",
    "print(\"Взять пакеты\")\n",
    "print(\"Дойти до подъезда\")\n",
    "print(\"Подняться по лестнице\")\n",
    "print(\"Открыть кв.\")\n",
    "print(\"Разгрузить покупки\")\n",
    "\n",
    "print(\"Забыла купить Лук\")\n",
    "\n",
    "print('Собраться')\n",
    "print('Выйти из кв')\n",
    "print('Закрыть квартиру')\n",
    "print('Спуститься вниз')\n",
    "print('Дойти до магазина')\n",
    "print('Закупиться')\n",
    "print(\"Взять пакеты\")\n",
    "print(\"Дойти до подъезда\")\n",
    "print(\"Подняться по лестнице\")\n",
    "print(\"Открыть кв.\")\n",
    "print(\"Разгрузить покупки\")\n",
    "\n",
    "print(\"Забыла купить Чеснок\")\n",
    "\n",
    "print('Собраться')\n",
    "print('Выйти из кв')\n",
    "print('Закрыть квартиру')\n",
    "print('Спуститься вниз')\n",
    "print('Дойти до магазина')\n",
    "print('Закупиться')\n",
    "print(\"Взять пакеты\")\n",
    "print(\"Дойти до подъезда\")\n",
    "print(\"Подняться по лестнице\")\n",
    "print(\"Открыть кв.\")\n",
    "print(\"Разгрузить покупки\")"
   ]
  },
  {
   "cell_type": "code",
   "execution_count": 1,
   "metadata": {},
   "outputs": [
    {
     "name": "stdout",
     "output_type": "stream",
     "text": [
      "\n"
     ]
    }
   ],
   "source": [
    "def say_hello():\n",
    "    print('Hello')\n",
    "    print('World')\n",
    "    print('!')\n",
    "\n",
    "print()\n",
    "\n",
    "say_hello()\n",
    "say_hello()\n",
    "say_hello()\n",
    "say_hello()"
   ]
  },
  {
   "cell_type": "code",
   "execution_count": null,
   "metadata": {},
   "outputs": [],
   "source": [
    "def pow(x,y):\n",
    "    if x >= 0:\n",
    "        return x ** y\n",
    "    else:\n",
    "        raise ValueError()"
   ]
  },
  {
   "cell_type": "markdown",
   "metadata": {},
   "source": [
    "# Виды функций"
   ]
  },
  {
   "cell_type": "markdown",
   "metadata": {},
   "source": [
    "Функции можно разделить на несколько видов: обычные, принимающие, возвращающие и анонимные."
   ]
  },
  {
   "cell_type": "markdown",
   "metadata": {},
   "source": [
    "## **Принимающая** \n",
    "– это та функция, в момент создания которой мы определяем какое-то значение, которое она будет принимать, а значит в момент вызова функции мы также должны будем его передать."
   ]
  },
  {
   "cell_type": "markdown",
   "metadata": {},
   "source": [
    "Параметр передающийся в функцию - называется аргумент.\n",
    "\n",
    "Аргумент функции - это специльная перемернная которая существует ТОЛЬКО внутри функции и может задавать значение при вызове её извне"
   ]
  },
  {
   "cell_type": "code",
   "execution_count": 2,
   "metadata": {},
   "outputs": [
    {
     "name": "stdout",
     "output_type": "stream",
     "text": [
      "Hello, Alice\n",
      "Hello, 245\n",
      "Hello, []\n",
      "Hello, Bob\n"
     ]
    }
   ],
   "source": [
    "\n",
    "def say_hello(name):\n",
    "    print('Hello,', name)\n",
    "\n",
    "#print(name)# Ошибка, потому что name не существует\n",
    "say_hello('Alice')\n",
    "say_hello(245)\n",
    "say_hello([])\n",
    "say_hello(input('Введите имя'))\n"
   ]
  },
  {
   "cell_type": "markdown",
   "metadata": {},
   "source": [
    "Рассмотрим вызов конкретной функции, и выведем результат принимающей функции в консоль. "
   ]
  },
  {
   "cell_type": "code",
   "execution_count": 23,
   "metadata": {},
   "outputs": [
    {
     "name": "stdout",
     "output_type": "stream",
     "text": [
      "Hello, Bob\n",
      "None\n",
      "Hello, Mell\n",
      "None\n"
     ]
    }
   ],
   "source": [
    "print(say_hello('Bob'))\n",
    "res = say_hello('Mell')\n",
    "print(res)"
   ]
  },
  {
   "cell_type": "markdown",
   "metadata": {},
   "source": [
    "После вызова функции, видим, какой результат она выдает в терминал. После чего видим выполнение функции print которая показала значение работы нашей функции (None). И как видим функция результата не выдает."
   ]
  },
  {
   "cell_type": "markdown",
   "metadata": {},
   "source": [
    "## **Возвращающая** \n",
    "– это та функция, которая нам что-то возвращает. А возвращать что-то она будет с помощью команды **return**."
   ]
  },
  {
   "cell_type": "code",
   "execution_count": 5,
   "metadata": {},
   "outputs": [
    {
     "name": "stdout",
     "output_type": "stream",
     "text": [
      "1\n",
      "9\n"
     ]
    }
   ],
   "source": [
    "import random\n",
    "\n",
    "def lottery():\n",
    "    tickets = [1,2,3,4,5,6,7,8,9,10]\n",
    "    win = random.choice(tickets)\n",
    "    return win\n",
    "    print('Я функция')\n",
    "\n",
    "print(lottery())\n",
    "win = lottery()\n",
    "print(win)\n",
    "    \n",
    "  "
   ]
  },
  {
   "cell_type": "markdown",
   "metadata": {},
   "source": [
    "return - помимо того что выводит результат из функции, она принудительно его и завершает в момент использования"
   ]
  },
  {
   "cell_type": "markdown",
   "metadata": {},
   "source": [
    "## **Обычная функция** \n",
    "- Принимает аргумент(ы) и возвращает значение. В то же время, может и не содержать аргументов и не содержать вывода значения\n",
    "\n",
    "\n",
    "\\* Первый блок, тоже считается обычной функцией"
   ]
  },
  {
   "cell_type": "code",
   "execution_count": 11,
   "metadata": {},
   "outputs": [
    {
     "name": "stdout",
     "output_type": "stream",
     "text": [
      "x=20\n",
      "Пн: 5 Вт: 1\n",
      "x=15\n",
      "Вт: 2 Пн: 3\n",
      "2 3\n"
     ]
    }
   ],
   "source": [
    "def lottery(mon, thue, x = 10):\n",
    "    print(f'{x=}')\n",
    "    tickets = [1,2,3,4,5,6,7,8,9,10]\n",
    "    \n",
    "    win1 = random.choice(tickets)\n",
    "    tickets.remove(win1)\n",
    "\n",
    "    win2 = random.choice(tickets)\n",
    "    tickets.remove(win2)\n",
    "\n",
    "    print(f'{mon}: {win1}', f\"{thue}: {win2}\")\n",
    "    return win1, win2\n",
    "\n",
    "# print(lottery('1','2'))\n",
    "# win1, win2 = lottery('Пн')\n",
    "win1, win2 = lottery('Пн', 'Вт', 20)\n",
    "win1, win2 = lottery(thue='Пн', mon='Вт', x = 15)\n",
    "print(win1, win2)"
   ]
  },
  {
   "cell_type": "markdown",
   "metadata": {},
   "source": [
    "# Произвольное количество параметров(аргументы) функции\n",
    "\n",
    "- Функция помимо того что может принимать определенное количество аргументов, также может принимать и неограниченное количество аргументов. НО для использования этого способа, нам потребуется определенная конструкция внутри функции.\n",
    "\n",
    "*args (arguments)- принимает ВСЕ аргументы <u>выходящие за пределы объявленных аргументов</u> и не имеющих определенное название.\n",
    "\n",
    "**kwargs (key word arguments) - принимает ВСЕ аргументы, НО если <u>указано название</u> каждого из них"
   ]
  },
  {
   "cell_type": "code",
   "execution_count": 13,
   "metadata": {},
   "outputs": [
    {
     "name": "stdout",
     "output_type": "stream",
     "text": [
      "() {}\n",
      "w1=6 w2=3\n",
      "(4,) {}\n",
      "(2, 3, 4) {}\n",
      "(2, 3, 4) {'name': 50}\n",
      "(2, 3, 4) {'name': 50, 'my_arg': [1, 2, 3]}\n"
     ]
    }
   ],
   "source": [
    "def lottery(*args, **kwargs): # keyword - arguments\n",
    "    tickets = [1,2,3,4,5,6,7,8,9,10]\n",
    "    \n",
    "    win1 = random.choice(tickets)\n",
    "    tickets.remove(win1)\n",
    "\n",
    "    win2 = random.choice(tickets)\n",
    "    tickets.remove(win2)\n",
    "    \n",
    "    print(args, kwargs)\n",
    "    # print((win1, win2))\n",
    "    return win1, win2\n",
    "\n",
    "# print(lottery('1','2'))\n",
    "w1, w2 = lottery()\n",
    "print(f'{w1=} {w2=}')\n",
    "win1, win2 = lottery(4)\n",
    "win1, win2 = lottery(2,3,4)\n",
    "win1, win2 = lottery(2,3,4, name=50)\n",
    "win1, win2 = lottery(2,3,4, name=50, my_arg=[1,2,3])\n",
    "# print(win1, win2)"
   ]
  },
  {
   "cell_type": "markdown",
   "metadata": {},
   "source": [
    "# Позиционные(опциональные) аргументы"
   ]
  },
  {
   "cell_type": "code",
   "execution_count": 14,
   "metadata": {},
   "outputs": [
    {
     "name": "stdout",
     "output_type": "stream",
     "text": [
      "Понедельник: 9 Вторник: 2 Необработанные аргументы ()\n",
      "Результат работы функции(то что передается в return): (9, 2)\n",
      "w1=9 w2=2\n",
      "Пн: 4 Вторник: 8 Необработанные аргументы ()\n",
      "Результат работы функции(то что передается в return): (4, 8)\n",
      "w1=4 w2=8\n",
      "Пн: 4 Вт: 10 Необработанные аргументы ('Ср',)\n",
      "Результат работы функции(то что передается в return): (4, 10)\n",
      "w1=4 w2=10\n",
      "Понедельник: 3 Втор: 10 Необработанные аргументы ()\n",
      "Результат работы функции(то что передается в return): (3, 10)\n",
      "w1=3 w2=10\n"
     ]
    }
   ],
   "source": [
    "def lottery(mon='Понедельник', thue='Вторник', *args):\n",
    "    tickets = [1,2,3,4,5,6,7,8,9,10]\n",
    "    \n",
    "    win1 = random.choice(tickets)\n",
    "    tickets.remove(win1)\n",
    "\n",
    "    win2 = random.choice(tickets)\n",
    "    tickets.remove(win2)\n",
    "    \n",
    "    print(f'{mon}: {win1}', f\"{thue}: {win2}\", f'Необработанные аргументы {args}')\n",
    "    print('Результат работы функции(то что передается в return):',(win1, win2))\n",
    "    return win1, win2\n",
    "\n",
    "w1, w2 = lottery()\n",
    "print(f'{w1=} {w2=}')\n",
    "w1, w2 = lottery('Пн')\n",
    "print(f'{w1=} {w2=}')\n",
    "w1, w2 = lottery('Пн','Вт','Ср')\n",
    "print(f'{w1=} {w2=}')\n",
    "w1, w2 = lottery(thue='Втор')\n",
    "print(f'{w1=} {w2=}')"
   ]
  },
  {
   "cell_type": "markdown",
   "metadata": {},
   "source": [
    "# Комбинированное использование\n",
    "- мы можем использовать все типы определения аргументов НО в определенной последовательности"
   ]
  },
  {
   "cell_type": "code",
   "execution_count": 16,
   "metadata": {},
   "outputs": [
    {
     "name": "stdout",
     "output_type": "stream",
     "text": [
      "Пн: 8 Вторник: 5 Необработанные аргументы () {}\n",
      "Результат работы функции(то что передается в return): (8, 5)\n",
      "w1=8 w2=5\n",
      "Пн: 6 Вт: 7 Необработанные аргументы ('Ср',) {}\n",
      "Результат работы функции(то что передается в return): (6, 7)\n",
      "w1=6 w2=7\n"
     ]
    },
    {
     "ename": "TypeError",
     "evalue": "lottery() missing 1 required positional argument: 'mon'",
     "output_type": "error",
     "traceback": [
      "\u001b[1;31m---------------------------------------------------------------------------\u001b[0m",
      "\u001b[1;31mTypeError\u001b[0m                                 Traceback (most recent call last)",
      "Cell \u001b[1;32mIn[16], line 20\u001b[0m\n\u001b[0;32m     18\u001b[0m w1, w2 \u001b[38;5;241m=\u001b[39m lottery(\u001b[38;5;124m'\u001b[39m\u001b[38;5;124mПн\u001b[39m\u001b[38;5;124m'\u001b[39m,\u001b[38;5;124m'\u001b[39m\u001b[38;5;124mВт\u001b[39m\u001b[38;5;124m'\u001b[39m,\u001b[38;5;124m'\u001b[39m\u001b[38;5;124mСр\u001b[39m\u001b[38;5;124m'\u001b[39m)\n\u001b[0;32m     19\u001b[0m \u001b[38;5;28mprint\u001b[39m(\u001b[38;5;124mf\u001b[39m\u001b[38;5;124m'\u001b[39m\u001b[38;5;132;01m{\u001b[39;00mw1\u001b[38;5;132;01m=}\u001b[39;00m\u001b[38;5;124m \u001b[39m\u001b[38;5;132;01m{\u001b[39;00mw2\u001b[38;5;132;01m=}\u001b[39;00m\u001b[38;5;124m'\u001b[39m)\n\u001b[1;32m---> 20\u001b[0m w1, w2 \u001b[38;5;241m=\u001b[39m \u001b[43mlottery\u001b[49m\u001b[43m(\u001b[49m\u001b[43mthue\u001b[49m\u001b[38;5;241;43m=\u001b[39;49m\u001b[38;5;124;43m'\u001b[39;49m\u001b[38;5;124;43mВтор\u001b[39;49m\u001b[38;5;124;43m'\u001b[39;49m\u001b[43m)\u001b[49m\n\u001b[0;32m     21\u001b[0m \u001b[38;5;28mprint\u001b[39m(\u001b[38;5;124mf\u001b[39m\u001b[38;5;124m'\u001b[39m\u001b[38;5;132;01m{\u001b[39;00mw1\u001b[38;5;132;01m=}\u001b[39;00m\u001b[38;5;124m \u001b[39m\u001b[38;5;132;01m{\u001b[39;00mw2\u001b[38;5;132;01m=}\u001b[39;00m\u001b[38;5;124m'\u001b[39m)\n",
      "\u001b[1;31mTypeError\u001b[0m: lottery() missing 1 required positional argument: 'mon'"
     ]
    }
   ],
   "source": [
    "def lottery(mon, thue='Вторник', *args, **kwargs):\n",
    "    tickets = [1,2,3,4,5,6,7,8,9,10]\n",
    "    \n",
    "    win1 = random.choice(tickets)\n",
    "    tickets.remove(win1)\n",
    "\n",
    "    win2 = random.choice(tickets)\n",
    "    tickets.remove(win2)\n",
    "    \n",
    "    print(f'{mon}: {win1}', f\"{thue}: {win2}\", f'Необработанные аргументы {args} {kwargs}')\n",
    "    print('Результат работы функции(то что передается в return):',(win1, win2))\n",
    "    return win1, win2\n",
    "\n",
    "# w1, w2 = lottery()\n",
    "# print(f'{w1=} {w2=}')\n",
    "w1, w2 = lottery('Пн')\n",
    "print(f'{w1=} {w2=}')\n",
    "w1, w2 = lottery('Пн','Вт','Ср')\n",
    "print(f'{w1=} {w2=}')\n",
    "# w1, w2 = lottery(thue='Втор')\n",
    "# print(f'{w1=} {w2=}')"
   ]
  },
  {
   "cell_type": "markdown",
   "metadata": {},
   "source": [
    "## Аннотации аргументов и выходных значений\n",
    "Аннотация -- это определенная подсказка(подпись) для компилятора о том какой тип данных мы <u>бы хотели тут видеть</u>. Также аннотации нужны не для конечного пользователя программой, а для самого разработчика."
   ]
  },
  {
   "cell_type": "code",
   "execution_count": 1,
   "metadata": {},
   "outputs": [
    {
     "name": "stdout",
     "output_type": "stream",
     "text": [
      "{'И': 1, 'с': 2, 'п': 2, 'о': 6, 'л': 3, 'ь': 1, 'з': 1, 'в': 2, 'а': 2, 'н': 2, 'и': 6, 'е': 2, ' ': 6, 'к': 5, 'й': 1, 'б': 1, 'т': 1, 'р': 3, 'д': 1, 'я': 1, 'ф': 1, 'у': 1, 'ц': 1}\n"
     ]
    }
   ],
   "source": [
    "def count_of_sym(text: str):\n",
    "    dct_letters = {}\n",
    "    for sym in text:\n",
    "        dct_letters[sym] = text.count(sym)\n",
    "    return dct_letters\n",
    "\n",
    "print(count_of_sym('Использование какой либо строки для проверки функции'))"
   ]
  },
  {
   "cell_type": "markdown",
   "metadata": {},
   "source": [
    "Когда может быть несколько разных в одном аргументе"
   ]
  },
  {
   "cell_type": "code",
   "execution_count": 3,
   "metadata": {},
   "outputs": [
    {
     "name": "stdout",
     "output_type": "stream",
     "text": [
      "('string', <class 'str'>)\n",
      "([1, 2, 3], <class 'list'>)\n",
      "(2, <class 'int'>)\n"
     ]
    }
   ],
   "source": [
    "def func(text: str|list):\n",
    "    return text, type(text)\n",
    "\n",
    "print(func('string'))\n",
    "print(func([1,2,3]))\n",
    "print(func(2)) # тоже будет работать несмотря на то что аннотации не прописаны под число"
   ]
  },
  {
   "cell_type": "markdown",
   "metadata": {},
   "source": [
    "Аннотирование внутренних элементов итерируемого объекта (list[str])\n",
    "\n",
    "Представим ситуацию, у нас функция принимает список строк, и каждую строчку нам нужно поднять в верхн регистр"
   ]
  },
  {
   "cell_type": "code",
   "execution_count": 4,
   "metadata": {},
   "outputs": [
    {
     "name": "stdout",
     "output_type": "stream",
     "text": [
      "['STRING', 'STRING2', 'STRING3']\n"
     ]
    }
   ],
   "source": [
    "# def func(list_of_texts: list[str|int]): # использование int\n",
    "def func(list_of_texts: list[str]):\n",
    "    lst = []\n",
    "    for text in list_of_texts:\n",
    "        lst.append(text.upper())\n",
    "\n",
    "    return lst\n",
    "\n",
    "lst_result = func(['string', 'string2', 'string3'])"
   ]
  },
  {
   "cell_type": "markdown",
   "metadata": {},
   "source": [
    "## Аннотирование выходных параметров\n",
    "\n",
    "Представим ситуацию что lst внутри func задается не напрямую пустым списком говоря нам о том какой тип данных будет выходной, а задается с помощью функции"
   ]
  },
  {
   "cell_type": "code",
   "execution_count": null,
   "metadata": {},
   "outputs": [],
   "source": [
    "# def func(list_of_texts: list[str|int]): # использование int\n",
    "\n",
    "def generate_data() -> str|list|dict:\n",
    "    data: list = []\n",
    "    return data\n",
    "\n",
    "def func(list_of_texts: list[str]) -> list[str]:\n",
    "    lst = generate_data()\n",
    "    for text in list_of_texts:\n",
    "        lst.append(text.upper())\n",
    "\n",
    "    return lst\n",
    "\n",
    "lst_result = func(['string', 'string2', 'string3'])\n",
    "lst_result"
   ]
  },
  {
   "cell_type": "markdown",
   "metadata": {},
   "source": []
  }
 ],
 "metadata": {
  "kernelspec": {
   "display_name": "Python 3",
   "language": "python",
   "name": "python3"
  },
  "language_info": {
   "codemirror_mode": {
    "name": "ipython",
    "version": 3
   },
   "file_extension": ".py",
   "mimetype": "text/x-python",
   "name": "python",
   "nbconvert_exporter": "python",
   "pygments_lexer": "ipython3",
   "version": "3.11.9"
  }
 },
 "nbformat": 4,
 "nbformat_minor": 2
}
