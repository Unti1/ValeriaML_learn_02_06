{
 "cells": [
  {
   "cell_type": "markdown",
   "metadata": {},
   "source": [
    "# Условная конструкция. Операторы: if, elif, else "
   ]
  },
  {
   "cell_type": "markdown",
   "metadata": {},
   "source": [
    "Конструкция - определенный механизм, заданный на уровне ядра Python, позволяющий выполнить опреленную механику в рамках своего применения."
   ]
  },
  {
   "cell_type": "markdown",
   "metadata": {},
   "source": [
    "Условная конструккция if-elif-else: конструкция которая позволяет выполнять провверку на истенность определенное нами условие"
   ]
  },
  {
   "cell_type": "code",
   "execution_count": 2,
   "metadata": {},
   "outputs": [
    {
     "name": "stdout",
     "output_type": "stream",
     "text": [
      "Отрицательное натуральное число\n",
      "Код выполнен\n"
     ]
    }
   ],
   "source": [
    "int_value = int(input())\n",
    "\n",
    "if int_value > 0: # Если\n",
    "    print('Положительное натуральное число')\n",
    "elif int_value < 0:\n",
    "    print('Отрицательное натуральное число')\n",
    "else: # Иначе\n",
    "    print('Ненатуральное число 0')\n",
    "\n",
    "print('Код выполнен')"
   ]
  },
  {
   "cell_type": "markdown",
   "metadata": {},
   "source": [
    "# Bool - True\\False - Булевый тип данных\n",
    "\n",
    "Тип данных который характерезует истинность\\ложность. Истина всегда подписывается как True, а ложь как False. В рамках компьютера яввляется основополагающим механизмом, потому что изначально компютор работает на логике 1(истина) и 0(ложь)"
   ]
  },
  {
   "cell_type": "code",
   "execution_count": 3,
   "metadata": {},
   "outputs": [
    {
     "name": "stdout",
     "output_type": "stream",
     "text": [
      "True <class 'bool'>\n",
      "False\n",
      "True\n",
      "False\n",
      "True\n",
      "False\n",
      "True\n",
      "False\n"
     ]
    }
   ],
   "source": [
    "val = True\n",
    "print(val, type(val))\n",
    "\n",
    "print(bool(''))\n",
    "print(bool('Не пустая'))\n",
    "\n",
    "print(bool({}))\n",
    "print(bool({'Не': 'пустая'}))\n",
    "\n",
    "print(bool([]))\n",
    "print(bool(['Не', 'пустая']))\n",
    "\n",
    "None # пустота. или отсутствие значение\n",
    "\n",
    "val = None\n",
    "print(bool(val))\n"
   ]
  },
  {
   "cell_type": "code",
   "execution_count": 21,
   "metadata": {},
   "outputs": [
    {
     "name": "stdout",
     "output_type": "stream",
     "text": [
      "Что-то пошло не такк\n"
     ]
    }
   ],
   "source": [
    "if 0:\n",
    "    print('Сработало')\n",
    "else:\n",
    "    print('Что-то пошло не так')"
   ]
  },
  {
   "cell_type": "code",
   "execution_count": 4,
   "metadata": {},
   "outputs": [],
   "source": [
    "lst = []"
   ]
  },
  {
   "cell_type": "code",
   "execution_count": 7,
   "metadata": {},
   "outputs": [],
   "source": [
    "lst.append(1)"
   ]
  },
  {
   "cell_type": "code",
   "execution_count": 8,
   "metadata": {},
   "outputs": [
    {
     "name": "stdout",
     "output_type": "stream",
     "text": [
      "Список не пустой\n"
     ]
    }
   ],
   "source": [
    "\n",
    "if lst:\n",
    "    print(\"Список не пустой\")\n",
    "else:\n",
    "    print(\"Список пустой\")"
   ]
  },
  {
   "cell_type": "markdown",
   "metadata": {},
   "source": [
    "## Условные операторы"
   ]
  },
  {
   "cell_type": "markdown",
   "metadata": {},
   "source": [
    "* `>` - больше\n",
    "* `>=` - больше либо равно\n",
    "* `<`- меньше\n",
    "* `<=` - меньше либо равно\n",
    "* `==` - строго равно (полное соответствие)\n",
    "* `!=` - строго НЕ равно"
   ]
  },
  {
   "cell_type": "code",
   "execution_count": 9,
   "metadata": {},
   "outputs": [
    {
     "name": "stdout",
     "output_type": "stream",
     "text": [
      "False\n",
      "True\n",
      "False\n",
      "True\n",
      "True\n",
      "True\n"
     ]
    }
   ],
   "source": [
    "print( 5 > 6 )\n",
    "print( 5 >= 5 )\n",
    "print( 5 > 5 )\n",
    "print( 5 == 5 )\n",
    "print( 5 < 20 )\n",
    "print( 5 != '5' )"
   ]
  },
  {
   "cell_type": "markdown",
   "metadata": {},
   "source": [
    "## Логические операторы: and, or, in, not"
   ]
  },
  {
   "cell_type": "markdown",
   "metadata": {},
   "source": [
    "* `and` - логический оператор \"конъюнкция\" или логическое умножение. \"Если одно из условия не истинно, значит всё не истина. В противном случае истина\"\n",
    "* `or` - логический оператор \"дизюнкция\" или логическое сложение. \"Если одно из условия истинно, значит всё истина. А если все условия не истенны то не истина\"\n",
    "* `not` - отрицание или инверсия\n",
    "* `in` - проверка на принадлежность. *Работает только для итерируемых объектов"
   ]
  },
  {
   "cell_type": "code",
   "execution_count": 15,
   "metadata": {},
   "outputs": [
    {
     "name": "stdout",
     "output_type": "stream",
     "text": [
      "False\n",
      "+\n",
      "------------------------------\n",
      "False\n",
      "True\n",
      "True\n",
      "------------------------------\n",
      "True\n",
      "True\n",
      "------------------------------\n",
      "True\n",
      "True\n",
      "------------------------------\n",
      "True\n",
      "False\n"
     ]
    }
   ],
   "source": [
    "print(not True)\n",
    "\n",
    "lst = []\n",
    "\n",
    "if not lst:\n",
    "    print('+')\n",
    "else:\n",
    "    print('-')\n",
    "print('---'*10)\n",
    "\n",
    "print(5 > 5 and 6 == 6)\n",
    "print(5 == 5 and 6 == 6)\n",
    "print(True and True)\n",
    "print('---'*10)\n",
    "print(True or False)\n",
    "print(False or True)\n",
    "print('---'*10)\n",
    "\n",
    "lst = [2,3,4,5,6,8,9]\n",
    "\n",
    "print(2 in lst)\n",
    "print(2 in lst and 4 in lst)\n",
    "\n",
    "print('---'*10)\n",
    "print(5 > 5 and 6 == 6 or 4 != 3)\n",
    "print(5 > 5 and (6 == 6 or 4 != 3))"
   ]
  },
  {
   "cell_type": "code",
   "execution_count": null,
   "metadata": {},
   "outputs": [],
   "source": []
  }
 ],
 "metadata": {
  "kernelspec": {
   "display_name": "Python 3",
   "language": "python",
   "name": "python3"
  },
  "language_info": {
   "codemirror_mode": {
    "name": "ipython",
    "version": 3
   },
   "file_extension": ".py",
   "mimetype": "text/x-python",
   "name": "python",
   "nbconvert_exporter": "python",
   "pygments_lexer": "ipython3",
   "version": "3.11.9"
  }
 },
 "nbformat": 4,
 "nbformat_minor": 2
}
