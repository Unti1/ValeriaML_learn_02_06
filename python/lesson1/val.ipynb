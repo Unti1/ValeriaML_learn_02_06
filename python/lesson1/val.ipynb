{
 "cells": [
  {
   "cell_type": "markdown",
   "metadata": {},
   "source": [
    "# Переменные\n",
    "- это своего рода контейнер, которому мы даём название и решаем что в нем хранить. Переменные внутри Python не пивязаны к типу данных (Динамической типизации)"
   ]
  },
  {
   "cell_type": "markdown",
   "metadata": {},
   "source": [
    "При создании переменных используется ряд правил для названия самого \"контейнера\":\n",
    "1. Используем только символы латинского алфавита\n",
    "2. Не использовать ключевые слова Python (print, input, str, int, list, dict и ...) [все ключевые слова будут в блоке ниже]\n",
    "3. Можно ставить цифры, но не в начале названия переменной\n",
    "4. Если нужно поставить отступы в названии, то используются знаки _ и -. Все остальные символы пунктуации ставить запрещено\n",
    "\n",
    "При программировании чего-либо важно понимать что регистр(чувствительность к размеру символа [А или а]) очень важен. То есть если `print` записан так, то такой `PrinT` не существует \n",
    "\n"
   ]
  },
  {
   "cell_type": "code",
   "execution_count": 1,
   "metadata": {},
   "outputs": [
    {
     "data": {
      "text/plain": [
       "['False',\n",
       " 'None',\n",
       " 'True',\n",
       " 'and',\n",
       " 'as',\n",
       " 'assert',\n",
       " 'async',\n",
       " 'await',\n",
       " 'break',\n",
       " 'class',\n",
       " 'continue',\n",
       " 'def',\n",
       " 'del',\n",
       " 'elif',\n",
       " 'else',\n",
       " 'except',\n",
       " 'finally',\n",
       " 'for',\n",
       " 'from',\n",
       " 'global',\n",
       " 'if',\n",
       " 'import',\n",
       " 'in',\n",
       " 'is',\n",
       " 'lambda',\n",
       " 'nonlocal',\n",
       " 'not',\n",
       " 'or',\n",
       " 'pass',\n",
       " 'raise',\n",
       " 'return',\n",
       " 'try',\n",
       " 'while',\n",
       " 'with',\n",
       " 'yield']"
      ]
     },
     "execution_count": 1,
     "metadata": {},
     "output_type": "execute_result"
    }
   ],
   "source": [
    "import keyword\n",
    "keyword.kwlist"
   ]
  },
  {
   "cell_type": "markdown",
   "metadata": {},
   "source": [
    "# Синтаксис переменных\n",
    "* синтаксис - определенный шаблон написания\\описания какой либо конструкции\n",
    "\n",
    "```\n",
    "*Название переменной* = *То что храним внутри*\n",
    "``` "
   ]
  },
  {
   "cell_type": "code",
   "execution_count": 2,
   "metadata": {},
   "outputs": [],
   "source": [
    "hello_text = \"Hello, User ...\""
   ]
  },
  {
   "cell_type": "code",
   "execution_count": 3,
   "metadata": {},
   "outputs": [
    {
     "name": "stdout",
     "output_type": "stream",
     "text": [
      "Hello, User ...\n",
      "Hello\n",
      ", User ...\n",
      ", User ...\n",
      ".\n"
     ]
    }
   ],
   "source": [
    "print(hello_text)\n",
    "print(hello_text[:5])\n",
    "print(hello_text[5:])\n",
    "print(hello_text[-10:])\n",
    "print(hello_text[-1:])"
   ]
  },
  {
   "cell_type": "markdown",
   "metadata": {},
   "source": [
    "# Стили описания"
   ]
  },
  {
   "cell_type": "code",
   "execution_count": 4,
   "metadata": {},
   "outputs": [
    {
     "name": "stdout",
     "output_type": "stream",
     "text": [
      "value\n",
      "value1\n"
     ]
    }
   ],
   "source": [
    "this_my_new_value = \"value\"\n",
    "print(this_my_new_value)\n",
    "this_my_new_value = 'value1' # Переприсвоение\n",
    "print(this_my_new_value)\n",
    "\n",
    "# this_my_new_value = this_my_new_value + \"  245\" # Переприсвоение\n",
    "# print(this_my_new_value)\n"
   ]
  },
  {
   "cell_type": "markdown",
   "metadata": {},
   "source": [
    "*переприсвоение -- процесс замены значения внутри уже созданной(<u>объявленной</u>) переменной "
   ]
  },
  {
   "cell_type": "code",
   "execution_count": 5,
   "metadata": {},
   "outputs": [
    {
     "name": "stdout",
     "output_type": "stream",
     "text": [
      "value\n"
     ]
    }
   ],
   "source": [
    "NameOfValue = \"value\"\n",
    "print(NameOfValue)"
   ]
  },
  {
   "cell_type": "markdown",
   "metadata": {},
   "source": [
    "# Динамическая типизация"
   ]
  },
  {
   "cell_type": "markdown",
   "metadata": {},
   "source": [
    "-- это возможность изменять тип данных переменной. В python это можно сделать без каких либо дополнительных конструкций заменив значение внутри переменной(при переопределении) на значение другого типа данных"
   ]
  },
  {
   "cell_type": "code",
   "execution_count": 6,
   "metadata": {},
   "outputs": [
    {
     "name": "stdout",
     "output_type": "stream",
     "text": [
      "value <class 'str'>\n"
     ]
    }
   ],
   "source": [
    "print(NameOfValue, type(NameOfValue))"
   ]
  },
  {
   "cell_type": "code",
   "execution_count": 7,
   "metadata": {},
   "outputs": [
    {
     "name": "stdout",
     "output_type": "stream",
     "text": [
      "54 <class 'str'>\n"
     ]
    }
   ],
   "source": [
    "NameOfValue = '54'\n",
    "val2 = '45'\n",
    "print(NameOfValue, type(NameOfValue))"
   ]
  },
  {
   "cell_type": "code",
   "execution_count": 8,
   "metadata": {},
   "outputs": [
    {
     "name": "stdout",
     "output_type": "stream",
     "text": [
      "5445\n"
     ]
    }
   ],
   "source": [
    "print(NameOfValue + val2)"
   ]
  },
  {
   "cell_type": "markdown",
   "metadata": {},
   "source": [
    "# Переприсвоение переменных\n",
    "-- Когда мы меняем в переменной навсегда с той строчки где произошло изменение. Любой скрипт читается линейно(от 1 строчки до последней), поэтому если в 1-вой строке поставить значение,а где-нибудь по ходу выполнения программы поменять это значение то с этого момента переменная будет иметь кконккретно это значение"
   ]
  },
  {
   "cell_type": "code",
   "execution_count": 9,
   "metadata": {},
   "outputs": [
    {
     "name": "stdout",
     "output_type": "stream",
     "text": [
      "a=20\n",
      "a=25\n"
     ]
    }
   ],
   "source": [
    "a = 20\n",
    "print(f'{a=}')\n",
    "a = 25\n",
    "print(f'{a=}')"
   ]
  },
  {
   "cell_type": "markdown",
   "metadata": {},
   "source": [
    "## Внутренее переприсвоение\n",
    "\n",
    "Переменная задается с права-налево\n",
    "\n",
    "Если мы говорим о `a = 20`, то сперва создается `20` и потом этому числу присваиввается контейнер(переменная) с именем `a`\n",
    "\n",
    "В контексте данной задачи\n",
    "\n",
    "Мы берем старое значение переменной, и сохраняем после изменения его в эту переменную, то есть ддругими словами, тоже выполняем переприсвоение. Выполняется сперва `a + 1` (где `а` уже определено и хранит какое то значение), а затем выполняется присвоение полученного значения, в переменную `a` "
   ]
  },
  {
   "cell_type": "code",
   "execution_count": 10,
   "metadata": {},
   "outputs": [
    {
     "name": "stdout",
     "output_type": "stream",
     "text": [
      "a=26\n"
     ]
    }
   ],
   "source": [
    "a = a + 1\n",
    "print(f'{a=}')"
   ]
  },
  {
   "cell_type": "markdown",
   "metadata": {},
   "source": [
    "# Операции \"на месте\"\n",
    "\n",
    "Держим в голове нашу прошлую конструкцию `a = a + 1`. Так вот преддставим задачу где нам нужно постоянно менять значение ОБЩЕЙ переменной как `а` например. И чтобы запись соответственно укоротить, были придуманы опреции \"на месте\" (In-Place).\n",
    "\n",
    "Как она работает? Такая операция избавляется от постоянной приписки самой переменной которую нужно изменить (`a`), с переносом определенного действия перед знаком присвоения (`=`)"
   ]
  },
  {
   "cell_type": "code",
   "execution_count": 11,
   "metadata": {},
   "outputs": [
    {
     "name": "stdout",
     "output_type": "stream",
     "text": [
      "a=28\n"
     ]
    }
   ],
   "source": [
    "a += 2 # такая запись равносильна записи a = a + 2\n",
    "print(f'{a=}')"
   ]
  },
  {
   "cell_type": "markdown",
   "metadata": {},
   "source": [
    "Такой оператор есть не только для сложения, а есть для каждой операции.\n",
    "\n",
    "Опреации приминимые к переменной **зависят** от того **какой тип данных** там находится"
   ]
  },
  {
   "cell_type": "code",
   "execution_count": 12,
   "metadata": {},
   "outputs": [
    {
     "name": "stdout",
     "output_type": "stream",
     "text": [
      "a=26\n",
      "a=5.2\n",
      "a=5.2\n",
      "a=27.040000000000003\n",
      "a=2.0400000000000027\n",
      "a=8.0\n"
     ]
    }
   ],
   "source": [
    "a -= 2 # такая запись равносильна записи a = a - 2\n",
    "print(f'{a=}')\n",
    "a /= 5\n",
    "print(f'{a=}')\n",
    "print(f'{a=}')\n",
    "a **= 2\n",
    "print(f'{a=}')\n",
    "a %= 5 # a = a % 2\n",
    "print(f'{a=}')#, f', но если записать a % 5 без присвоения то получится: {a % 5}')\n",
    "a *= 20\n",
    "a //= 5 # a = a % 2\n",
    "print(f'{a=}')"
   ]
  },
  {
   "cell_type": "markdown",
   "metadata": {},
   "source": []
  }
 ],
 "metadata": {
  "kernelspec": {
   "display_name": "Python 3",
   "language": "python",
   "name": "python3"
  },
  "language_info": {
   "codemirror_mode": {
    "name": "ipython",
    "version": 3
   },
   "file_extension": ".py",
   "mimetype": "text/x-python",
   "name": "python",
   "nbconvert_exporter": "python",
   "pygments_lexer": "ipython3",
   "version": "3.11.9"
  }
 },
 "nbformat": 4,
 "nbformat_minor": 2
}
