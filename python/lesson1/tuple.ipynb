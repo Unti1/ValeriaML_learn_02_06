{
 "cells": [
  {
   "cell_type": "markdown",
   "metadata": {},
   "source": [
    "# Кортеж - `[tuple]` - он же неизменяемый список(массив)\n",
    "\n",
    "Кортеж -- неизменяемый итерируемый(не один объект, а связка объектов, с которыми можно взаимодействовать) тип данных. \n",
    "\n",
    "## Cвойства\n",
    "\n",
    "- Неизменяемый\n",
    "- Индексируемый\n",
    "- Хранит любой тип данных\n",
    "\n",
    "## Синтаксис: \n",
    "\n",
    "( ,x1, x2, x3, ..., xN) -- при этом x может быть любым объектом, любого типа данных.\n",
    "\n",
    "## Индексация\n",
    "\n",
    "такая как в списках\n"
   ]
  },
  {
   "cell_type": "code",
   "execution_count": 1,
   "metadata": {},
   "outputs": [],
   "source": [
    "tup = ()\n",
    "tup2 = (2, 3, 4)\n",
    "tup3 = (2, \"string\", 56.65, 'string2')"
   ]
  },
  {
   "cell_type": "code",
   "execution_count": 2,
   "metadata": {},
   "outputs": [
    {
     "name": "stdout",
     "output_type": "stream",
     "text": [
      "3\n",
      "(2, 'string')\n",
      "(56.65, 'string2')\n",
      "(2, 56.65)\n"
     ]
    }
   ],
   "source": [
    "print(tup2[1])\n",
    "print(tup3[:2])\n",
    "print(tup3[2:])\n",
    "print(tup3[::2])"
   ]
  },
  {
   "cell_type": "markdown",
   "metadata": {},
   "source": [
    "Методов всего 2 - `.index(...)` и `.count(...)` которые работают точно также как и в списках."
   ]
  },
  {
   "cell_type": "code",
   "execution_count": null,
   "metadata": {},
   "outputs": [],
   "source": []
  }
 ],
 "metadata": {
  "kernelspec": {
   "display_name": "Python 3",
   "language": "python",
   "name": "python3"
  },
  "language_info": {
   "codemirror_mode": {
    "name": "ipython",
    "version": 3
   },
   "file_extension": ".py",
   "mimetype": "text/x-python",
   "name": "python",
   "nbconvert_exporter": "python",
   "pygments_lexer": "ipython3",
   "version": "3.11.9"
  }
 },
 "nbformat": 4,
 "nbformat_minor": 2
}
