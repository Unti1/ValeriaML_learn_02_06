{
 "cells": [
  {
   "cell_type": "markdown",
   "metadata": {},
   "source": [
    "# Целочисленный тип данных - `[int]` - Integer"
   ]
  },
  {
   "cell_type": "markdown",
   "metadata": {},
   "source": [
    "- Целочисленный тип данных -- характерезует целое число (без остатка)"
   ]
  },
  {
   "cell_type": "code",
   "execution_count": 1,
   "metadata": {},
   "outputs": [
    {
     "name": "stdout",
     "output_type": "stream",
     "text": [
      "23 <class 'int'>\n",
      "-53 <class 'int'>\n",
      "4568 <class 'int'>\n",
      "0 <class 'int'>\n",
      "0 <class 'int'>\n"
     ]
    }
   ],
   "source": [
    "x = 23\n",
    "print(x, type(x))\n",
    "x = -53\n",
    "print(x, type(x))\n",
    "x = 4568\n",
    "print(x, type(x))\n",
    "x = 0\n",
    "print(x, type(x))\n",
    "x = int() # это 0, в этом месте мы создали пустой тип данных целого числа\n",
    "print(x, type(x))"
   ]
  },
  {
   "cell_type": "markdown",
   "metadata": {},
   "source": [
    "# **Вещественный** тип данных - `[float]` - Float digit\n",
    "\n",
    "- Вещественный тип данных -- характерезует дробное(плавающее) число (с остатком, даже если он нулевой)"
   ]
  },
  {
   "cell_type": "code",
   "execution_count": 2,
   "metadata": {},
   "outputs": [
    {
     "name": "stdout",
     "output_type": "stream",
     "text": [
      "5.5 <class 'float'>\n",
      "0.5 <class 'float'>\n",
      "-0.5 <class 'float'>\n",
      "-5.5 <class 'float'>\n",
      "0.0 <class 'float'>\n",
      "6.0 <class 'float'>\n"
     ]
    }
   ],
   "source": [
    "y = 5.5\n",
    "print(y, type(y)) \n",
    "y = .5\n",
    "print(y, type(y)) \n",
    "y = -.5\n",
    "print(y, type(y)) \n",
    "y = - 5.5\n",
    "print(y, type(y)) \n",
    "y = float()\n",
    "print(y, type(y)) \n",
    "y = float('6')\n",
    "print(y, type(y))"
   ]
  },
  {
   "cell_type": "markdown",
   "metadata": {},
   "source": [
    "# Взаимодействия с числами\n",
    "\n",
    "- порядок взаимодействия с числом, точно такой же как в алгебре"
   ]
  },
  {
   "cell_type": "code",
   "execution_count": 3,
   "metadata": {},
   "outputs": [
    {
     "name": "stdout",
     "output_type": "stream",
     "text": [
      "15\n",
      "5\n",
      "50\n",
      "100\n",
      "2.0\n",
      "2\n",
      "2\n",
      "0\n",
      "1\n",
      "24\n",
      "14\n"
     ]
    }
   ],
   "source": [
    "x = 10\n",
    "print(x + 5)\n",
    "print(x - 5)\n",
    "print(x * 5)\n",
    "print(x ** 2)\n",
    "print(x / 5) # получили float, это стандарт деления в языках программирования. Когда из 2 целвых чисел при делении ... \n",
    "# ... получаем вещественное в любом случае\n",
    "\n",
    "print(x // 5) # Целочисленное деление (остаток отбрасывается)\n",
    "print(13//5)\n",
    "\n",
    "print(x % 5) # Остаточное деление (когда мы получаем остаток от деления)\n",
    "print(7 % 2)\n",
    "\n",
    "print(2*3*4)\n",
    "print(2*(3+4))\n",
    "\n"
   ]
  },
  {
   "cell_type": "markdown",
   "metadata": {},
   "source": [
    "При **любой операции** integer(int) и float всегда ответ будет в типе данных <u>**float**</u>"
   ]
  },
  {
   "cell_type": "code",
   "execution_count": 4,
   "metadata": {},
   "outputs": [
    {
     "name": "stdout",
     "output_type": "stream",
     "text": [
      "7.6\n",
      "10.0\n",
      "30.0\n"
     ]
    }
   ],
   "source": [
    "print(2 + 5.6)\n",
    "print(5 + 5.0)\n",
    "print(5 * 6.0)"
   ]
  },
  {
   "cell_type": "markdown",
   "metadata": {},
   "source": [
    "# Преобразование типа Float в Int"
   ]
  },
  {
   "cell_type": "code",
   "execution_count": 8,
   "metadata": {},
   "outputs": [
    {
     "name": "stdout",
     "output_type": "stream",
     "text": [
      "6\n",
      "5.6\n",
      "5\n"
     ]
    }
   ],
   "source": [
    "x = 5.56\n",
    "print(round(x))\n",
    "print(round(x, 1))\n",
    "print(int(x))"
   ]
  },
  {
   "cell_type": "code",
   "execution_count": null,
   "metadata": {},
   "outputs": [],
   "source": []
  },
  {
   "cell_type": "code",
   "execution_count": null,
   "metadata": {},
   "outputs": [],
   "source": []
  },
  {
   "cell_type": "markdown",
   "metadata": {},
   "source": []
  },
  {
   "cell_type": "markdown",
   "metadata": {},
   "source": []
  }
 ],
 "metadata": {
  "kernelspec": {
   "display_name": "Python 3",
   "language": "python",
   "name": "python3"
  },
  "language_info": {
   "codemirror_mode": {
    "name": "ipython",
    "version": 3
   },
   "file_extension": ".py",
   "mimetype": "text/x-python",
   "name": "python",
   "nbconvert_exporter": "python",
   "pygments_lexer": "ipython3",
   "version": "3.11.9"
  }
 },
 "nbformat": 4,
 "nbformat_minor": 2
}
